{
 "cells": [
  {
   "cell_type": "code",
   "execution_count": 1,
   "id": "57998441-0460-4b42-8193-c18894ae2966",
   "metadata": {
    "executionInfo": {
     "elapsed": 13352,
     "status": "ok",
     "timestamp": 1714244924611,
     "user": {
      "displayName": "Yash Bellap",
      "userId": "09208374579413899324"
     },
     "user_tz": 420
    },
    "id": "57998441-0460-4b42-8193-c18894ae2966"
   },
   "outputs": [],
   "source": [
    "import os\n",
    "import pandas as pd\n",
    "import numpy as np\n",
    "import torch\n",
    "import torch.nn as nn\n",
    "import torch.optim as optim\n",
    "from sklearn.preprocessing import MinMaxScaler\n",
    "from torch.utils.data import DataLoader, TensorDataset\n",
    "import matplotlib.pyplot as plt\n",
    "import pickle  # To save datasets and scalerse\n",
    "\n",
    "import warnings\n",
    "warnings.filterwarnings('ignore')\n",
    "\n",
    "# Define the LSTM model using PyTorch\n",
    "class LSTMModel(nn.Module):\n",
    "    def __init__(self, input_dim, hidden_dim, num_layers, output_dim):\n",
    "        super(LSTMModel, self).__init__()\n",
    "        self.hidden_dim = hidden_dim\n",
    "        self.num_layers = num_layers\n",
    "\n",
    "        self.lstm = nn.LSTM(input_dim, hidden_dim, num_layers, batch_first=True)\n",
    "        self.dropout = nn.Dropout(0.2)\n",
    "        self.fc = nn.Linear(hidden_dim, output_dim)\n",
    "\n",
    "    def forward(self, x):\n",
    "        h0 = torch.zeros(self.num_layers, x.size(0), self.hidden_dim).to(x.device)\n",
    "        c0 = torch.zeros(self.num_layers, x.size(0), self.hidden_dim).to(x.device)\n",
    "\n",
    "        out, _ = self.lstm(x, (h0, c0))\n",
    "        out = self.dropout(out[:, -1, :])  # get the last time step output\n",
    "        out = self.fc(out)\n",
    "        return out\n",
    "\n",
    "def create_datasets(X, y, batch_size=256):\n",
    "    dataset = TensorDataset(torch.tensor(X).float(), torch.tensor(y).float())\n",
    "    return DataLoader(dataset, batch_size=batch_size, shuffle=True)\n",
    "\n"
   ]
  },
  {
   "cell_type": "code",
   "execution_count": 2,
   "id": "473e458a-e61e-4e35-8ff2-b96578a89d01",
   "metadata": {
    "id": "473e458a-e61e-4e35-8ff2-b96578a89d01"
   },
   "outputs": [],
   "source": [
    "def train_model(model, train_loader, val_loader, device, num_epochs=2):\n",
    "    criterion = nn.MSELoss()\n",
    "    optimizer = optim.Adam(model.parameters(), lr=0.001)\n",
    "    history = {'train_loss': [], 'val_loss': []}\n",
    "\n",
    "    for epoch in range(num_epochs):\n",
    "        model.train()  # Ensure the model is in training mode\n",
    "        train_losses = []\n",
    "        for X_batch, y_batch in train_loader:\n",
    "            X_batch, y_batch = X_batch.to(device), y_batch.to(device)\n",
    "            optimizer.zero_grad()\n",
    "            outputs = model(X_batch)\n",
    "            loss = criterion(outputs.squeeze(), y_batch)\n",
    "            loss.backward()\n",
    "            optimizer.step()\n",
    "            train_losses.append(loss.item())\n",
    "\n",
    "        val_losses = []\n",
    "        model.eval()  # Switch to evaluation mode for validation\n",
    "        with torch.no_grad():\n",
    "            for X_batch, y_batch in val_loader:\n",
    "                X_batch, y_batch = X_batch.to(device), y_batch.to(device)\n",
    "                outputs = model(X_batch)\n",
    "                val_loss = criterion(outputs.squeeze(), y_batch)\n",
    "                val_losses.append(val_loss.item())\n",
    "\n",
    "        history['train_loss'].append(np.mean(train_losses))\n",
    "        history['val_loss'].append(np.mean(val_losses))\n",
    "        print(f'Epoch {epoch+1}/{num_epochs}, Train Loss: {np.mean(train_losses):.4f}, Val Loss: {np.mean(val_losses):.4f}')\n",
    "\n",
    "    return model, history\n"
   ]
  },
  {
   "cell_type": "code",
   "execution_count": 3,
   "id": "572bfe22-3e45-4580-a8ba-a7278fab2b22",
   "metadata": {
    "id": "572bfe22-3e45-4580-a8ba-a7278fab2b22"
   },
   "outputs": [],
   "source": [
    "# def create_multivariate_dataset(data, time_step):\n",
    "#     X, Y = [], []\n",
    "#     for i in range(len(data) - time_step):\n",
    "#         X.append(data[i:(i + time_step), :])\n",
    "#         Y.append(data[i + time_step, 0])\n",
    "#     return np.array(X), np.array(Y)\n",
    "\n",
    "\n",
    "\n",
    "import numpy as np\n",
    "\n",
    "def create_multivariate_dataset(data, time_step):\n",
    "    X, Y = [], []\n",
    "    # Loop goes up to the last element, as now we want to include the current day's features in X\n",
    "    for i in range(len(data) - time_step - 1):  # Adjust to ensure space for the last Y element\n",
    "        # Include the current day's features by extending the slice up to i + time_step + 1\n",
    "        X.append(data[i:(i + time_step + 1), :])  # X includes data up to and including the current day\n",
    "        Y.append(data[i + time_step + 1, 0])      # Y is still the next day's target feature\n",
    "    return np.array(X), np.array(Y)\n"
   ]
  },
  {
   "cell_type": "code",
   "execution_count": 4,
   "id": "74aa3897-ab6d-45bc-b425-5bad9834732c",
   "metadata": {},
   "outputs": [],
   "source": [
    "def manual_scaling(station_data_df,raw_df):\n",
    "\n",
    "    #will need to manually scale aspect and area across the entire dataframe\n",
    "\n",
    "    aspect_array = np.array(raw_df.Aspect.unique())\n",
    "    min_aspect = aspect_array.min()\n",
    "    max_aspect = aspect_array.max()\n",
    "    \n",
    "    area_array = np.array(raw_df.Area.unique())\n",
    "    min_area = area_array.min()\n",
    "    max_area = area_array.max()\n",
    "    \n",
    "    scaler = MinMaxScaler(feature_range=(0, 1))\n",
    "    scaling_columns = ['Streamflow','combined_precipitation_TRMM_sum_1', 'combined_precipitation_TRMM_avg_1', 'combined_precipitation_CHIRPS_sum', 'combined_temperature',\n",
    "        'combined_precipitation_PERSIANN', 'combined_surface_pressure', 'combined_total_precipitation_Era5_sum', 'combined_precipitation_CHIRPS', 'combined_NDSI_Snow_Cover_Terra',\n",
    "        'combined_precipitation_PERSIANN_sum', 'combined_total_precipitation']\n",
    "    \n",
    "    dynamic_scaled_data = scaler.fit_transform(station_data_df[scaling_columns])\n",
    "    static_data = station_data_df[['Area','Aspect']]\n",
    "    static_data['Area'] = (static_data.Area - min_area)/(max_area - min_area)\n",
    "    static_data['Aspect'] = (static_data.Aspect-min_aspect)/(max_aspect-min_aspect)\n",
    "    static_scaled_data = static_data.values\n",
    "    \n",
    "    scaled_data = np.concatenate((dynamic_scaled_data,static_scaled_data), axis=1) \n",
    "    return scaler,scaled_data"
   ]
  },
  {
   "cell_type": "code",
   "execution_count": 5,
   "id": "f084eb5a-b311-4e15-834b-b54e7e9f53ec",
   "metadata": {
    "id": "f084eb5a-b311-4e15-834b-b54e7e9f53ec"
   },
   "outputs": [],
   "source": [
    "def process_and_save_data(data_path, feature_list, output_path, time_step=365, train_split=0.67):\n",
    "    data = pd.read_csv(data_path, index_col='Date', parse_dates=True, low_memory=False)\n",
    "    selected_features = ['StationID'] + feature_list\n",
    "    data = data[selected_features]\n",
    "\n",
    "    # Create the output directory if it doesn't exist\n",
    "    os.makedirs(output_path, exist_ok=True)\n",
    "\n",
    "    X_train_all, y_train_all, X_test_all, y_test_all = [], [], [], []\n",
    "\n",
    "    for station_id in data['StationID'].unique():\n",
    "        station_data = data[data['StationID'] == station_id].drop(columns=['StationID'])\n",
    "        station_data.replace('Min', np.nan, inplace=True)\n",
    "        station_data = station_data.dropna().ffill()\n",
    "\n",
    "        # Initialize a new scaler for each station\n",
    "        \n",
    "        scaler,scaled_data = manual_scaling(station_data,data)\n",
    "        print(scaled_data.shape)\n",
    "        X, y = create_multivariate_dataset(scaled_data, time_step)\n",
    "        print('X', X.shape)\n",
    "        print('y',y.shape)\n",
    "\n",
    "        train_size = int(len(X) * train_split)\n",
    "        X_train, y_train = X[:train_size], y[:train_size]\n",
    "        X_test, y_test = X[train_size:], y[train_size:]\n",
    "\n",
    "        X_train_all.append(X_train)\n",
    "        y_train_all.append(y_train)\n",
    "        X_test_all.append(X_test)\n",
    "        y_test_all.append(y_test)\n",
    "\n",
    "        # Save train and test sets along with the scaler for each station\n",
    "        with open(os.path.join(output_path, f'station_{station_id}_train.pkl'), 'wb') as f:\n",
    "            pickle.dump((X_train, y_train), f)\n",
    "        with open(os.path.join(output_path, f'station_{station_id}_test.pkl'), 'wb') as f:\n",
    "            pickle.dump((X_test, y_test), f)\n",
    "        with open(os.path.join(output_path, f'station_{station_id}_scaler.pkl'), 'wb') as f:\n",
    "            pickle.dump(scaler, f)  # Save the scaler object\n",
    "\n",
    "    return np.concatenate(X_train_all, axis=0), np.concatenate(y_train_all, axis=0), \\\n",
    "           np.concatenate(X_test_all, axis=0), np.concatenate(y_test_all, axis=0)\n",
    "\n",
    "\n",
    "def train_and_evaluate_model(X_train, y_train, X_test, y_test, input_dim, hidden_dim=50, num_layers=2, output_dim=1, num_epochs=30):\n",
    "    device = torch.device(\"cuda\" if torch.cuda.is_available() else \"cpu\")\n",
    "    train_loader = create_datasets(X_train, y_train)\n",
    "    val_loader = create_datasets(X_test, y_test)\n",
    "\n",
    "    model = LSTMModel(input_dim=input_dim, hidden_dim=hidden_dim, num_layers=num_layers, output_dim=output_dim)\n",
    "    model.to(device)\n",
    "    trained_model, history = train_model(model, train_loader, val_loader, device, num_epochs=num_epochs)\n",
    "\n",
    "    return trained_model, history\n",
    "\n",
    "import os\n",
    "def save_and_plot_results(model, history, model_path, plot_path):\n",
    "    torch.save(model.state_dict(), model_path + \"_model.pth\")\n",
    "    plt.figure(figsize=(10, 5))\n",
    "    plt.plot(history['train_loss'], label='Train Loss')\n",
    "    plt.plot(history['val_loss'], label='Validation Loss')\n",
    "    plt.title('LSTM Model Loss')\n",
    "    plt.xlabel('Epoch')\n",
    "    plt.ylabel('Loss')\n",
    "    plt.legend()\n",
    "    plt.savefig(plot_path + \"_loss_plot.png\")\n",
    "    plt.close()\n",
    "\n",
    "    \n"
   ]
  },
  {
   "cell_type": "code",
   "execution_count": 6,
   "id": "4770f366-123e-4d8a-9c97-a4431e1bf0e6",
   "metadata": {
    "id": "4770f366-123e-4d8a-9c97-a4431e1bf0e6",
    "outputId": "3d33d881-94b5-480e-8657-37c320ef6ecd"
   },
   "outputs": [],
   "source": [
    "# Set up paths and features\n",
    "data_path = '/home/agupt344/Final project/combined_stations_data.csv'\n",
    "model_base_path = '/home/agupt344/Final project/lstm_model'\n",
    "plot_base_path = '/home/agupt344/Final project/loss_plot'\n",
    "output_path = '/home/agupt344/Final project/processed_data'\n",
    "\n",
    "feature_list = ['Streamflow', 'Area', 'Aspect', 'combined_precipitation_TRMM_sum_1', 'combined_precipitation_TRMM_avg_1', 'combined_precipitation_CHIRPS_sum', 'combined_temperature',\n",
    "               'combined_precipitation_PERSIANN', 'combined_surface_pressure', 'combined_total_precipitation_Era5_sum', 'combined_precipitation_CHIRPS', 'combined_NDSI_Snow_Cover_Terra',\n",
    "               'combined_precipitation_PERSIANN_sum', 'combined_total_precipitation']\n",
    "\n",
    "\n",
    "# Ensure the directories exist\n",
    "os.makedirs(os.path.dirname(model_base_path), exist_ok=True)\n",
    "os.makedirs(os.path.dirname(plot_base_path), exist_ok=True)\n",
    "os.makedirs(os.path.dirname(output_path), exist_ok=True)\n",
    "\n",
    "\n",
    "\n",
    "\n"
   ]
  },
  {
   "cell_type": "code",
   "execution_count": 7,
   "id": "7fc410c0-64bd-4c47-9e8d-4f8ac38c2646",
   "metadata": {},
   "outputs": [
    {
     "name": "stdout",
     "output_type": "stream",
     "text": [
      "(5664, 14)\n",
      "X (5298, 366, 14)\n",
      "y (5298,)\n",
      "(4282, 14)\n",
      "X (3916, 366, 14)\n",
      "y (3916,)\n",
      "(5694, 14)\n",
      "X (5328, 366, 14)\n",
      "y (5328,)\n",
      "(5220, 14)\n",
      "X (4854, 366, 14)\n",
      "y (4854,)\n",
      "(5735, 14)\n",
      "X (5369, 366, 14)\n",
      "y (5369,)\n",
      "(5221, 14)\n",
      "X (4855, 366, 14)\n",
      "y (4855,)\n",
      "(5742, 14)\n",
      "X (5376, 366, 14)\n",
      "y (5376,)\n",
      "(5673, 14)\n",
      "X (5307, 366, 14)\n",
      "y (5307,)\n",
      "(5742, 14)\n",
      "X (5376, 366, 14)\n",
      "y (5376,)\n",
      "(4738, 14)\n",
      "X (4372, 366, 14)\n",
      "y (4372,)\n",
      "(5728, 14)\n",
      "X (5362, 366, 14)\n",
      "y (5362,)\n",
      "(5476, 14)\n",
      "X (5110, 366, 14)\n",
      "y (5110,)\n",
      "(5742, 14)\n",
      "X (5376, 366, 14)\n",
      "y (5376,)\n",
      "(5546, 14)\n",
      "X (5180, 366, 14)\n",
      "y (5180,)\n",
      "(5670, 14)\n",
      "X (5304, 366, 14)\n",
      "y (5304,)\n",
      "(5715, 14)\n",
      "X (5349, 366, 14)\n",
      "y (5349,)\n",
      "(5740, 14)\n",
      "X (5374, 366, 14)\n",
      "y (5374,)\n",
      "(5622, 14)\n",
      "X (5256, 366, 14)\n",
      "y (5256,)\n",
      "(5663, 14)\n",
      "X (5297, 366, 14)\n",
      "y (5297,)\n",
      "(5608, 14)\n",
      "X (5242, 366, 14)\n",
      "y (5242,)\n",
      "(5736, 14)\n",
      "X (5370, 366, 14)\n",
      "y (5370,)\n",
      "(3917, 14)\n",
      "X (3551, 366, 14)\n",
      "y (3551,)\n",
      "(5339, 14)\n",
      "X (4973, 366, 14)\n",
      "y (4973,)\n",
      "(5273, 14)\n",
      "X (4907, 366, 14)\n",
      "y (4907,)\n",
      "(4248, 14)\n",
      "X (3882, 366, 14)\n",
      "y (3882,)\n",
      "(2799, 14)\n",
      "X (2433, 366, 14)\n",
      "y (2433,)\n",
      "(5009, 14)\n",
      "X (4643, 366, 14)\n",
      "y (4643,)\n",
      "(5610, 14)\n",
      "X (5244, 366, 14)\n",
      "y (5244,)\n",
      "(5213, 14)\n",
      "X (4847, 366, 14)\n",
      "y (4847,)\n",
      "(5298, 14)\n",
      "X (4932, 366, 14)\n",
      "y (4932,)\n",
      "(4282, 14)\n",
      "X (3916, 366, 14)\n",
      "y (3916,)\n"
     ]
    }
   ],
   "source": [
    "# Process data\n",
    "X_train, y_train, X_test, y_test = process_and_save_data(data_path, feature_list, output_path)"
   ]
  },
  {
   "cell_type": "code",
   "execution_count": null,
   "id": "528731cf-fa8a-4ffb-8c5e-c661e1c6db44",
   "metadata": {},
   "outputs": [],
   "source": []
  },
  {
   "cell_type": "code",
   "execution_count": 8,
   "id": "01e33c59-1876-477d-9c8e-f1595c3698c5",
   "metadata": {},
   "outputs": [
    {
     "data": {
      "text/plain": [
       "array([0.03335535, 0.0330251 , 0.0330251 , ..., 0.00703602, 0.00604801,\n",
       "       0.07409694])"
      ]
     },
     "execution_count": 8,
     "metadata": {},
     "output_type": "execute_result"
    }
   ],
   "source": [
    "y_train"
   ]
  },
  {
   "cell_type": "code",
   "execution_count": 9,
   "id": "2ad80029-7090-4466-a071-ac3e9c329a0b",
   "metadata": {},
   "outputs": [
    {
     "name": "stdout",
     "output_type": "stream",
     "text": [
      "Epoch 1/30, Train Loss: 0.0024, Val Loss: 0.0013\n",
      "Epoch 2/30, Train Loss: 0.0012, Val Loss: 0.0011\n",
      "Epoch 3/30, Train Loss: 0.0011, Val Loss: 0.0011\n",
      "Epoch 4/30, Train Loss: 0.0011, Val Loss: 0.0010\n",
      "Epoch 5/30, Train Loss: 0.0011, Val Loss: 0.0010\n",
      "Epoch 6/30, Train Loss: 0.0010, Val Loss: 0.0010\n",
      "Epoch 7/30, Train Loss: 0.0010, Val Loss: 0.0011\n",
      "Epoch 8/30, Train Loss: 0.0010, Val Loss: 0.0010\n",
      "Epoch 9/30, Train Loss: 0.0010, Val Loss: 0.0010\n",
      "Epoch 10/30, Train Loss: 0.0010, Val Loss: 0.0011\n",
      "Epoch 11/30, Train Loss: 0.0010, Val Loss: 0.0010\n",
      "Epoch 12/30, Train Loss: 0.0010, Val Loss: 0.0010\n",
      "Epoch 13/30, Train Loss: 0.0010, Val Loss: 0.0010\n",
      "Epoch 14/30, Train Loss: 0.0010, Val Loss: 0.0010\n",
      "Epoch 15/30, Train Loss: 0.0010, Val Loss: 0.0010\n",
      "Epoch 16/30, Train Loss: 0.0010, Val Loss: 0.0010\n",
      "Epoch 17/30, Train Loss: 0.0010, Val Loss: 0.0011\n",
      "Epoch 18/30, Train Loss: 0.0010, Val Loss: 0.0010\n",
      "Epoch 19/30, Train Loss: 0.0010, Val Loss: 0.0010\n",
      "Epoch 20/30, Train Loss: 0.0010, Val Loss: 0.0010\n",
      "Epoch 21/30, Train Loss: 0.0009, Val Loss: 0.0010\n",
      "Epoch 22/30, Train Loss: 0.0010, Val Loss: 0.0010\n",
      "Epoch 23/30, Train Loss: 0.0009, Val Loss: 0.0010\n",
      "Epoch 24/30, Train Loss: 0.0009, Val Loss: 0.0010\n",
      "Epoch 25/30, Train Loss: 0.0009, Val Loss: 0.0010\n",
      "Epoch 26/30, Train Loss: 0.0009, Val Loss: 0.0010\n",
      "Epoch 27/30, Train Loss: 0.0009, Val Loss: 0.0010\n",
      "Epoch 28/30, Train Loss: 0.0009, Val Loss: 0.0010\n",
      "Epoch 29/30, Train Loss: 0.0009, Val Loss: 0.0010\n",
      "Epoch 30/30, Train Loss: 0.0009, Val Loss: 0.0009\n"
     ]
    }
   ],
   "source": [
    "# Train and evaluate the model\n",
    "trained_model, history = train_and_evaluate_model(X_train, y_train, X_test, y_test, input_dim=X_train.shape[2])\n",
    "\n",
    "# Save the model and plot results\n",
    "save_and_plot_results(trained_model, history, model_base_path, plot_base_path)"
   ]
  },
  {
   "cell_type": "code",
   "execution_count": 18,
   "id": "15f3a9fb-3e52-4e4d-84d5-04830b356368",
   "metadata": {
    "id": "15f3a9fb-3e52-4e4d-84d5-04830b356368"
   },
   "outputs": [
    {
     "data": {
      "text/plain": [
       "101552"
      ]
     },
     "execution_count": 18,
     "metadata": {},
     "output_type": "execute_result"
    }
   ],
   "source": [
    "len(X_train)"
   ]
  },
  {
   "cell_type": "code",
   "execution_count": null,
   "id": "961dbb2b-5f68-4835-8654-11e5c7b8fd60",
   "metadata": {
    "id": "961dbb2b-5f68-4835-8654-11e5c7b8fd60"
   },
   "outputs": [],
   "source": []
  },
  {
   "cell_type": "code",
   "execution_count": null,
   "id": "d58a736f-15ea-4741-af37-e96d4249819b",
   "metadata": {
    "id": "d58a736f-15ea-4741-af37-e96d4249819b"
   },
   "outputs": [],
   "source": []
  },
  {
   "cell_type": "markdown",
   "id": "ce2666c8-14c8-4c49-95c1-a0e420e2d048",
   "metadata": {
    "id": "ce2666c8-14c8-4c49-95c1-a0e420e2d048"
   },
   "source": [
    "## Lets evaluate the model"
   ]
  },
  {
   "cell_type": "code",
   "execution_count": 8,
   "id": "aa3b7299-0cc2-49a7-9a8a-b57b3990c840",
   "metadata": {
    "id": "aa3b7299-0cc2-49a7-9a8a-b57b3990c840",
    "outputId": "35d685f1-508c-48e5-c8fd-9d3787a458a0"
   },
   "outputs": [
    {
     "data": {
      "text/plain": [
       "LSTMModel(\n",
       "  (lstm): LSTM(14, 50, num_layers=2, batch_first=True)\n",
       "  (fc): Linear(in_features=50, out_features=1, bias=True)\n",
       ")"
      ]
     },
     "execution_count": 8,
     "metadata": {},
     "output_type": "execute_result"
    }
   ],
   "source": [
    "import torch\n",
    "import torch.nn as nn\n",
    "device = torch.device(\"cuda\" if torch.cuda.is_available() else \"cpu\")\n",
    "\n",
    "class LSTMModel(nn.Module):\n",
    "    def __init__(self, input_dim, hidden_dim, num_layers, output_dim):\n",
    "        super(LSTMModel, self).__init__()\n",
    "        self.lstm = nn.LSTM(input_dim, hidden_dim, num_layers, batch_first=True)\n",
    "        self.fc = nn.Linear(hidden_dim, output_dim)\n",
    "\n",
    "    def forward(self, x):\n",
    "        _, (hn, _) = self.lstm(x)\n",
    "        out = self.fc(hn[-1])\n",
    "        return out\n",
    "\n",
    "model_path = '/home/agupt344/Final project/lstm_model_model.pth'\n",
    "lstm_model = LSTMModel(input_dim=X_train.shape[2], hidden_dim=50, num_layers=2, output_dim=1)\n",
    "lstm_model .load_state_dict(torch.load(model_path))\n",
    "lstm_model .eval()\n",
    "\n"
   ]
  },
  {
   "cell_type": "code",
   "execution_count": 9,
   "id": "58715098-897e-4895-8bff-1cd5d55e2cdb",
   "metadata": {},
   "outputs": [
    {
     "data": {
      "text/plain": [
       "33651"
      ]
     },
     "execution_count": 9,
     "metadata": {},
     "output_type": "execute_result"
    }
   ],
   "source": [
    "sum(p.numel() for p in lstm_model .parameters() if p.requires_grad)"
   ]
  },
  {
   "cell_type": "code",
   "execution_count": 10,
   "id": "8bb5867f-19fb-476a-beb4-f790b7b35d89",
   "metadata": {
    "id": "8bb5867f-19fb-476a-beb4-f790b7b35d89"
   },
   "outputs": [],
   "source": [
    "import pickle\n",
    "import os\n",
    "\n",
    "def load_data_from_pickle(output_path):\n",
    "    test_data = {}\n",
    "    files = [f for f in os.listdir(output_path) if f.endswith('_test.pkl')]\n",
    "    for file in files:\n",
    "        station_id = file.split('_')[1]  # file name format 'station_{ID}_test.pkl'\n",
    "        with open(os.path.join(output_path, file), 'rb') as f:\n",
    "            X_test, y_test = pickle.load(f)\n",
    "        test_data[station_id] = (X_test, y_test)\n",
    "    return test_data\n",
    "\n",
    "test_data = load_data_from_pickle('/home/agupt344/Final project/processed_data')\n"
   ]
  },
  {
   "cell_type": "code",
   "execution_count": 11,
   "id": "2cacf6a1-cdb9-4e2b-986b-d0182f7c3f2e",
   "metadata": {
    "id": "2cacf6a1-cdb9-4e2b-986b-d0182f7c3f2e"
   },
   "outputs": [],
   "source": [
    "def predict_data(model, test_data):\n",
    "    predictions = {}\n",
    "    for station_id, (X_test, y_test) in test_data.items():\n",
    "        X_tensor = torch.tensor(X_test).float()\n",
    "        #X_tensor = X_tensor.to(device)\n",
    "        pred = model (X_tensor).detach().numpy()\n",
    "        predictions[station_id] = (pred, y_test)\n",
    "    return predictions\n",
    "\n",
    "predictions = predict_data(lstm_model, test_data)\n"
   ]
  },
  {
   "cell_type": "code",
   "execution_count": 12,
   "id": "a6b1ac1b-0d9d-46ba-87ba-9d89183263b0",
   "metadata": {
    "id": "a6b1ac1b-0d9d-46ba-87ba-9d89183263b0"
   },
   "outputs": [
    {
     "name": "stdout",
     "output_type": "stream",
     "text": [
      "Average Test Loss: 0.0009\n"
     ]
    }
   ],
   "source": [
    "lstm_model.eval()  # Set the model to evaluation mode\n",
    "test_loss_accum = 0\n",
    "num_batches = 0\n",
    "# Ensure the input data is also moved to the same device\n",
    "X_test_tensor = torch.tensor(X_test, dtype=torch.float32)\n",
    "y_test_tensor = torch.tensor(y_test, dtype=torch.float32).view(-1, 1)\n",
    "\n",
    "# Example of data loader setup\n",
    "test_dataset = TensorDataset(X_test_tensor, y_test_tensor)\n",
    "test_loader = DataLoader(test_dataset, batch_size=256, shuffle=False)\n",
    "criterion = nn.MSELoss()\n",
    "\n",
    "with torch.no_grad():\n",
    "    for inputs, targets in test_loader:\n",
    "        outputs = lstm_model(inputs)\n",
    "        test_loss = criterion(outputs.squeeze(), targets.squeeze())  # Make sure dimensions match\n",
    "        test_loss_accum += test_loss.item()\n",
    "        num_batches += 1\n",
    "\n",
    "average_test_loss = test_loss_accum / num_batches\n",
    "print(f'Average Test Loss: {average_test_loss:.4f}')\n"
   ]
  },
  {
   "cell_type": "markdown",
   "id": "9005b3a1-f170-4301-8aa9-8158c475eba6",
   "metadata": {
    "id": "9005b3a1-f170-4301-8aa9-8158c475eba6"
   },
   "source": [
    "## Evaluate the predictions on different metrices"
   ]
  },
  {
   "cell_type": "code",
   "execution_count": 13,
   "id": "42472f5c-6e07-416c-a586-914b6c3a7843",
   "metadata": {
    "id": "42472f5c-6e07-416c-a586-914b6c3a7843"
   },
   "outputs": [],
   "source": [
    "def mean_absolute_error(actual, predicted):\n",
    "    return np.mean(np.abs(actual - predicted))\n",
    "\n",
    "def nash_sutcliffe_efficiency(actual, predicted):\n",
    "    return 1 - np.sum((predicted - actual) ** 2) / np.sum((actual - np.mean(actual)) ** 2)\n",
    "\n",
    "def modified_nash_sutcliffe_efficiency(actual, predicted):\n",
    "    return 1 - np.sqrt(np.sum((predicted - actual) ** 2) / np.sum((actual - np.mean(actual)) ** 2))\n",
    "\n",
    "def rmse(actual, predicted):\n",
    "    return np.sqrt(np.mean((predicted - actual) ** 2))\n",
    "\n",
    "def alpha_nse(actual, predicted):\n",
    "    # Alpha-NSE measures the ratio of the standard deviation of predicted and actual values\n",
    "    return np.std(predicted) / np.std(actual)\n",
    "\n",
    "def beta_nse(actual, predicted):\n",
    "    # Beta-NSE measures the normalized bias in the mean of predicted and actual values\n",
    "    return (np.mean(predicted) - np.mean(actual)) / np.std(actual)\n",
    "\n",
    "def fhv(actual, predicted):\n",
    "    # FHV measures the bias in peak flows\n",
    "    top_2_percent = int(0.02 * len(actual))  # 2% of the length of the data\n",
    "    # Sort actual and predicted in descending order and take the top 2%\n",
    "    sorted_actual = np.sort(actual)[::-1][:top_2_percent]\n",
    "    sorted_predicted = np.sort(predicted)[::-1][:top_2_percent]\n",
    "    return 100 * (np.sum(sorted_predicted - sorted_actual) / np.sum(sorted_actual))\n",
    "\n",
    "def fms(actual, predicted):\n",
    "    # FMS measures the bias in the midsegment slope of the flow duration curve\n",
    "    mid_30_percent = int(0.3 * len(actual))  # 30% of the length of the data, for the middle segment\n",
    "    sorted_actual = np.sort(actual)\n",
    "    sorted_predicted = np.sort(predicted)\n",
    "    q_sm1 = sorted_predicted[mid_30_percent]\n",
    "    q_sm2 = sorted_predicted[-mid_30_percent]\n",
    "    q_om1 = sorted_actual[mid_30_percent]\n",
    "    q_om2 = sorted_actual[-mid_30_percent]\n",
    "    return 100 * ((np.log(q_sm1) - np.log(q_sm2)) - (np.log(q_om1) - np.log(q_om2))) / (np.log(q_om1) - np.log(q_om2))\n",
    "\n",
    "def flv(actual, predicted, epsilon=1e-6):\n",
    "    # FLV measures the bias in low flows\n",
    "    bottom_30_percent = int(0.3 * len(actual))  # 30% of the length of the data, for the lowest flows\n",
    "    sorted_actual = np.sort(actual)[:bottom_30_percent]\n",
    "    sorted_predicted = np.sort(predicted)[:bottom_30_percent]\n",
    "    \n",
    "    # Ensure all values are positive by taking the absolute value and adding epsilon\n",
    "    sorted_actual = np.abs(sorted_actual) + epsilon\n",
    "    sorted_predicted = np.abs(sorted_predicted) + epsilon\n",
    "    \n",
    "    log_actual = np.log(sorted_actual)\n",
    "    log_predicted = np.log(sorted_predicted)\n",
    "    \n",
    "    return 100 * (np.sum(log_predicted - log_actual) / np.sum(log_actual))\n"
   ]
  },
  {
   "cell_type": "code",
   "execution_count": 14,
   "id": "37767b5d-dff5-492c-981a-bec958a9fb11",
   "metadata": {},
   "outputs": [
    {
     "data": {
      "text/plain": [
       "{'MAE': 0.011570845746881154,\n",
       " 'NSE': 0.9304174930596115,\n",
       " 'M-NSE': 0.7362150365536572,\n",
       " 'RMSE': 0.030729818725302362,\n",
       " 'Alpha-NSE': 0.961473989120718,\n",
       " 'Beta-NSE': 0.0053516096790558795,\n",
       " 'FHV': -5.773311472436959,\n",
       " 'FMS': -8.050841783290783,\n",
       " 'FLV': -7.0371891840733864}"
      ]
     },
     "execution_count": 14,
     "metadata": {},
     "output_type": "execute_result"
    }
   ],
   "source": [
    "def accumulte_results(predictions):\n",
    "    actual_array = np.zeros((0, 0), dtype=float)\n",
    "    pred_array = np.zeros((0, 0), dtype=float)\n",
    "    for station_id, (pred, actual) in predictions.items():\n",
    "        \n",
    "        actual_array = np.append(actual_array,actual.squeeze())\n",
    "        pred_array =np.append(pred_array, pred.squeeze())\n",
    "    return actual_array,pred_array\n",
    "\n",
    "actual,pred = accumulte_results(predictions)\n",
    "average_metrics= {\n",
    "            'MAE': mean_absolute_error(actual, pred),\n",
    "            'NSE': nash_sutcliffe_efficiency(actual, pred),\n",
    "            'M-NSE': modified_nash_sutcliffe_efficiency(actual, pred),\n",
    "            'RMSE': rmse(actual, pred),\n",
    "            'Alpha-NSE': alpha_nse(actual, pred),\n",
    "            'Beta-NSE': beta_nse(actual, pred),\n",
    "            'FHV': fhv(actual, pred),\n",
    "            'FMS': fms(actual, pred),\n",
    "            'FLV': flv(actual, pred)\n",
    "        }\n",
    "average_metrics\n",
    "\n"
   ]
  },
  {
   "cell_type": "code",
   "execution_count": null,
   "id": "9e0099ac-9266-4ed2-a5b3-3446c68160df",
   "metadata": {},
   "outputs": [],
   "source": []
  },
  {
   "cell_type": "code",
   "execution_count": 26,
   "id": "5f8e0fce-0e80-4d74-a1c2-46c02cdb3393",
   "metadata": {
    "id": "5f8e0fce-0e80-4d74-a1c2-46c02cdb3393",
    "outputId": "26b89567-449e-46cc-c193-6383781f7d82"
   },
   "outputs": [],
   "source": [
    "def calculate_metrics(predictions):\n",
    "    metrics = {}\n",
    "    for station_id, (pred, actual) in predictions.items():\n",
    "        actual = actual.squeeze()\n",
    "        pred = pred.squeeze()\n",
    "        metrics[station_id] = {\n",
    "            'MAE': mean_absolute_error(actual, pred),\n",
    "            'NSE': nash_sutcliffe_efficiency(actual, pred),\n",
    "            'M-NSE': modified_nash_sutcliffe_efficiency(actual, pred),\n",
    "            'RMSE': rmse(actual, pred),\n",
    "            'Alpha-NSE': alpha_nse(actual, pred),\n",
    "            'Beta-NSE': beta_nse(actual, pred),\n",
    "            'FHV': fhv(actual, pred),\n",
    "            'FMS': fms(actual, pred),\n",
    "            'FLV': flv(actual, pred)\n",
    "        }\n",
    "    return metrics\n",
    "\n",
    "metrics = calculate_metrics(predictions)\n"
   ]
  },
  {
   "cell_type": "code",
   "execution_count": 27,
   "id": "8e29e7a0-54bb-4782-9f66-30dfbc62e193",
   "metadata": {
    "id": "8e29e7a0-54bb-4782-9f66-30dfbc62e193",
    "outputId": "9a141ade-034c-4f53-a61b-766add1e1f24"
   },
   "outputs": [
    {
     "data": {
      "image/png": "[encoded data removed]",
      "text/plain": [
       "<Figure size 1800x1600 with 9 Axes>"
      ]
     },
     "metadata": {},
     "output_type": "display_data"
    }
   ],
   "source": [
    "import matplotlib.pyplot as plt\n",
    "\n",
    "def plot_metrics(metrics):\n",
    "    fig, axes = plt.subplots(nrows=3, ncols=3, figsize=(18, 16))\n",
    "    axes = axes.flatten()\n",
    "    metric_names = ['MAE', 'NSE', 'M-NSE', 'RMSE', 'Alpha-NSE', 'Beta-NSE', 'FHV', 'FMS', 'FLV']\n",
    "\n",
    "    station_ids = list(metrics.keys())  # Get the list of station IDs to use as labels\n",
    "\n",
    "    for i, metric in enumerate(metric_names):\n",
    "        values = [metrics[station_id][metric] for station_id in metrics]\n",
    "        x_ticks = range(len(station_ids))  # Create a list of tick positions\n",
    "        axes[i].bar(x_ticks, values, color='skyblue')\n",
    "        axes[i].set_title(metric)\n",
    "        axes[i].set_xticks(x_ticks)  # Set the tick positions on the x-axis\n",
    "        axes[i].set_xticklabels(station_ids, rotation=90)  # Set the tick labels, now that the ticks are fixed\n",
    "\n",
    "    plt.tight_layout()\n",
    "    plt.show()\n",
    "\n",
    "plot_metrics(metrics)\n"
   ]
  },
  {
   "cell_type": "code",
   "execution_count": null,
   "id": "342b8f06-60cf-457c-a2f6-96474c0f3917",
   "metadata": {
    "id": "342b8f06-60cf-457c-a2f6-96474c0f3917"
   },
   "outputs": [],
   "source": []
  },
  {
   "cell_type": "markdown",
   "id": "2340abb6-b5d9-48a6-abb6-5bb776262fd4",
   "metadata": {
    "id": "2340abb6-b5d9-48a6-abb6-5bb776262fd4"
   },
   "source": [
    "## Lets descale the data to get sclaed metrices"
   ]
  },
  {
   "cell_type": "code",
   "execution_count": 28,
   "id": "6eee0943-862d-47d4-9620-0f12d52f80c5",
   "metadata": {
    "id": "6eee0943-862d-47d4-9620-0f12d52f80c5"
   },
   "outputs": [],
   "source": [
    "def load_scalers(output_path):\n",
    "    scalers = {}\n",
    "    files = [f for f in os.listdir(output_path) if f.endswith('_scaler.pkl')]\n",
    "    for file in files:\n",
    "        station_id = file.split('_')[1]  # Assuming file name format 'station_{ID}_scaler.pkl'\n",
    "        with open(os.path.join(output_path, file), 'rb') as f:\n",
    "            scalers[station_id] = pickle.load(f)\n",
    "    return scalers\n",
    "\n",
    "scalers = load_scalers('/home/agupt344/Final project/processed_data')\n"
   ]
  },
  {
   "cell_type": "code",
   "execution_count": 29,
   "id": "e8c20812-0d59-4df2-a61e-b43a61e997b3",
   "metadata": {
    "id": "e8c20812-0d59-4df2-a61e-b43a61e997b3"
   },
   "outputs": [],
   "source": [
    "def predict_and_descale_data(model, test_data, scalers):\n",
    "    predictions = {}\n",
    "    for station_id, (X_test, y_test) in test_data.items():\n",
    "        X_tensor = torch.tensor(X_test).float()\n",
    "        pred = model(X_tensor).detach().numpy().squeeze()\n",
    "\n",
    "        actual = y_test.squeeze()\n",
    "\n",
    "        # Reshape predictions for descaling\n",
    "        if pred.ndim == 1:\n",
    "            pred = pred.reshape(-1, 1)\n",
    "        if actual.ndim == 1:\n",
    "            actual = actual.reshape(-1, 1)\n",
    "\n",
    "        # Descale predictions and actual data using only the first feature column of the scaler\n",
    "        pred_descaled = scalers[station_id].inverse_transform(pred)[:, 0]  # Adjust as needed\n",
    "        actual_descaled = scalers[station_id].inverse_transform(actual)[:, 0]  # Adjust as needed\n",
    "\n",
    "        predictions[station_id] = (pred_descaled, actual_descaled)\n",
    "    return predictions\n"
   ]
  },
  {
   "cell_type": "code",
   "execution_count": 30,
   "id": "10786c37-d9d6-4bf1-8169-bdee830bde48",
   "metadata": {
    "id": "10786c37-d9d6-4bf1-8169-bdee830bde48"
   },
   "outputs": [],
   "source": [
    "def predict_and_descale_data(model, test_data, scalers):\n",
    "    predictions = {}\n",
    "    for station_id, (X_test, y_test) in test_data.items():\n",
    "        X_tensor = torch.tensor(X_test).float()\n",
    "        pred = model(X_tensor).detach().numpy().squeeze()\n",
    "        actual = y_test.squeeze()\n",
    "\n",
    "        # Ensure data is 2D (single feature data should be reshaped)\n",
    "        pred = pred.reshape(-1, 1) if pred.ndim == 1 else pred\n",
    "        actual = actual.reshape(-1, 1) if actual.ndim == 1 else actual\n",
    "\n",
    "        # Determine the number of features the scaler was trained with\n",
    "        num_features = scalers[station_id].scale_.shape[0]\n",
    "\n",
    "        # Add dummy columns to match the scaler's expected number of features\n",
    "        pred_padded = np.hstack([pred, np.zeros((pred.shape[0], num_features - 1))])\n",
    "        actual_padded = np.hstack([actual, np.zeros((actual.shape[0], num_features - 1))])\n",
    "\n",
    "        # Descale using the full feature set\n",
    "        pred_descaled = scalers[station_id].inverse_transform(pred_padded)[:, 0]  # Extract only the relevant column\n",
    "        actual_descaled = scalers[station_id].inverse_transform(actual_padded)[:, 0]\n",
    "\n",
    "        predictions[station_id] = (pred_descaled, actual_descaled)\n",
    "\n",
    "    return predictions\n"
   ]
  },
  {
   "cell_type": "code",
   "execution_count": null,
   "id": "aefe7765-de25-4582-b227-c83470a4fc77",
   "metadata": {
    "id": "aefe7765-de25-4582-b227-c83470a4fc77"
   },
   "outputs": [],
   "source": [
    "predictions = predict_and_descale_data(lstm_model, test_data, scalers)\n"
   ]
  },
  {
   "cell_type": "code",
   "execution_count": null,
   "id": "4f7997ba-7c10-4f2b-bc61-e287ae66c101",
   "metadata": {},
   "outputs": [],
   "source": [
    "def accumulte_results(predictions):\n",
    "    actual_array = np.zeros((0, 0), dtype=float)\n",
    "    pred_array = np.zeros((0, 0), dtype=float)\n",
    "    for station_id, (pred, actual) in predictions.items():\n",
    "        \n",
    "        actual_array = np.append(actual_array,actual.squeeze())\n",
    "        pred_array =np.append(pred_array, pred.squeeze())\n",
    "    return actual_array,pred_array\n",
    "\n",
    "actual,pred = accumulte_results(predictions)\n",
    "average_metrics= {\n",
    "            'MAE': mean_absolute_error(actual, pred),\n",
    "            'NSE': nash_sutcliffe_efficiency(actual, pred),\n",
    "            'M-NSE': modified_nash_sutcliffe_efficiency(actual, pred),\n",
    "            'RMSE': rmse(actual, pred),\n",
    "            'Alpha-NSE': alpha_nse(actual, pred),\n",
    "            'Beta-NSE': beta_nse(actual, pred),\n",
    "            'FHV': fhv(actual, pred),\n",
    "            'FMS': fms(actual, pred),\n",
    "            'FLV': flv(actual, pred)\n",
    "        }\n",
    "average_metrics"
   ]
  },
  {
   "cell_type": "code",
   "execution_count": null,
   "id": "dadd0ce7-6f63-4770-91aa-ee8284375cc4",
   "metadata": {
    "id": "dadd0ce7-6f63-4770-91aa-ee8284375cc4",
    "outputId": "91d1cf9f-0aec-43f1-ac07-cd1d91ab181c"
   },
   "outputs": [],
   "source": [
    "metrics = calculate_metrics(predictions)"
   ]
  },
  {
   "cell_type": "code",
   "execution_count": null,
   "id": "42a8157a-31e9-4d25-a893-f1144a271e16",
   "metadata": {
    "id": "42a8157a-31e9-4d25-a893-f1144a271e16",
    "outputId": "e43b35cb-0ccd-4c15-b164-4ad8ecfc8f44"
   },
   "outputs": [],
   "source": [
    "plot_metrics(metrics)"
   ]
  },
  {
   "cell_type": "code",
   "execution_count": null,
   "id": "a1ff8e90-fe62-4d68-b68a-fe027d3be8bd",
   "metadata": {
    "id": "a1ff8e90-fe62-4d68-b68a-fe027d3be8bd"
   },
   "outputs": [],
   "source": []
  },
  {
   "cell_type": "markdown",
   "id": "4b2d204e-9186-4210-9347-f3bf32e3d335",
   "metadata": {
    "id": "4b2d204e-9186-4210-9347-f3bf32e3d335"
   },
   "source": [
    "## Lets visualize the results"
   ]
  },
  {
   "cell_type": "code",
   "execution_count": null,
   "id": "4d32dc4f-ab20-4d04-a5b4-81198f7fd4e5",
   "metadata": {
    "id": "4d32dc4f-ab20-4d04-a5b4-81198f7fd4e5"
   },
   "outputs": [],
   "source": [
    "def load_and_descale_data(file_path, scaler):\n",
    "    with open(file_path, 'rb') as f:\n",
    "        X_train, y_train = pickle.load(f)  # Assuming data is saved as (X_train, y_train)\n",
    "\n",
    "    y_train = np.array(y_train)  # Convert list or other formats to NumPy array if necessary\n",
    "    if y_train.ndim == 1:\n",
    "        y_train = y_train.reshape(-1, 1)  # Ensure it's 2D for consistency with scaler expectations\n",
    "\n",
    "    # Add dummy columns to match the number of features the scaler was trained with\n",
    "    num_features = scaler.scale_.shape[0]\n",
    "    if y_train.shape[1] < num_features:\n",
    "        # Create a dummy array with zeros for additional features\n",
    "        dummy_features = np.zeros((y_train.shape[0], num_features - 1))\n",
    "        y_train_padded = np.hstack([y_train, dummy_features])\n",
    "    else:\n",
    "        y_train_padded = y_train\n",
    "\n",
    "    data_descaled = scaler.inverse_transform(y_train_padded)[:, 0]  # Descale and extract only the first column\n",
    "    return data_descaled\n"
   ]
  },
  {
   "cell_type": "code",
   "execution_count": null,
   "id": "dc7de6c0-b0fd-432d-81a3-596009139441",
   "metadata": {
    "id": "dc7de6c0-b0fd-432d-81a3-596009139441"
   },
   "outputs": [],
   "source": []
  },
  {
   "cell_type": "code",
   "execution_count": null,
   "id": "c63591bf-ea65-4eb7-a03b-2e04d9271755",
   "metadata": {
    "id": "c63591bf-ea65-4eb7-a03b-2e04d9271755"
   },
   "outputs": [],
   "source": [
    "# Dictionary to store descaled training data\n",
    "training_data_descaled = {}\n",
    "for station_id in scalers.keys():\n",
    "    training_file_path = f'/home/agupt344/Final project/processed_data/station_{station_id}_train.pkl'\n",
    "    if os.path.exists(training_file_path):\n",
    "        training_data_descaled[station_id] = load_and_descale_data(training_file_path, scalers[station_id])\n",
    "\n"
   ]
  },
  {
   "cell_type": "code",
   "execution_count": null,
   "id": "088ec291-df8d-405b-87b1-a9c0f791d104",
   "metadata": {
    "id": "088ec291-df8d-405b-87b1-a9c0f791d104",
    "outputId": "b6b8fdc8-0c5a-47ff-8a49-11f274ddc1c1"
   },
   "outputs": [],
   "source": [
    "def plot_station_data(station_id, training_data, predictions, actual):\n",
    "    plt.figure(figsize=(12, 6))\n",
    "    plt.title(f\"Time Series Prediction vs Actual for Station {station_id}\")\n",
    "    plt.plot(training_data, label='Training Data', color='blue', alpha=0.5)\n",
    "    plt.plot(range(len(training_data), len(training_data) + len(predictions)), predictions, label='Predicted Data', color='red')\n",
    "    plt.plot(range(len(training_data), len(training_data) + len(actual)), actual, label='Actual Data', color='green', alpha=0.5)\n",
    "    plt.legend()\n",
    "    plt.xlabel(\"Time Steps\")\n",
    "    plt.ylabel(\"Streamflow\")\n",
    "    plt.show()\n",
    "\n",
    "# Assuming `predictions` dictionary is structured with each station's predicted and actual descaled data:\n",
    "# predictions[station_id] = (pred_descaled, actual_descaled)\n",
    "for station_id in predictions.keys():\n",
    "    if station_id in training_data_descaled:\n",
    "        plot_station_data(station_id, training_data_descaled[station_id], predictions[station_id][0], predictions[station_id][1])\n"
   ]
  },
  {
   "cell_type": "markdown",
   "id": "63147092-6e62-47d8-bdb2-fb85b830213f",
   "metadata": {},
   "source": [
    "##### plot_station_data(station_id, training_data_descaled[station_id], predictions[station_id][0], predictions[station_id][1])"
   ]
  },
  {
   "cell_type": "code",
   "execution_count": null,
   "id": "5aba65ec-0939-406c-a464-269a04c092e1",
   "metadata": {
    "id": "5aba65ec-0939-406c-a464-269a04c092e1",
    "outputId": "c9fa625a-fd4e-49e2-9224-b5a574571e72"
   },
   "outputs": [],
   "source": [
    "import plotly.graph_objects as go\n",
    "\n",
    "def plot_station_data_interactive(station_id, training_data, predictions, actual):\n",
    "    # Create time steps for the predictions and actual data\n",
    "    train_len = len(training_data)\n",
    "    pred_len = len(predictions)\n",
    "    pred_steps = list(range(train_len, train_len + pred_len))\n",
    "\n",
    "    # Create a Plotly graph\n",
    "    fig = go.Figure()\n",
    "    fig.add_trace(go.Scatter(y=training_data, mode='lines', name='Training Data', line=dict(color='blue', width=2)))\n",
    "    fig.add_trace(go.Scatter(x=pred_steps, y=predictions, mode='lines', name='Predictions', line=dict(color='red', width=2)))\n",
    "    fig.add_trace(go.Scatter(x=pred_steps, y=actual, mode='lines', name='Actual Data', line=dict(color='green', width=2)))\n",
    "\n",
    "    # Update plot layout\n",
    "    fig.update_layout(\n",
    "        title=f\"Time Series Prediction vs Actual for Station {station_id}\",\n",
    "        xaxis_title='Time Steps',\n",
    "        yaxis_title='Streamflow',\n",
    "        legend_title=\"Legend\",\n",
    "        font=dict(\n",
    "            family=\"Courier New, monospace\",\n",
    "            size=18,\n",
    "            color=\"RebeccaPurple\"\n",
    "        )\n",
    "    )\n",
    "\n",
    "    # Show the plot\n",
    "    fig.show()\n",
    "\n",
    "# Example usage\n",
    "station_id = '695.0'  # Replace 'your_station_id' with the actual station ID you want to plot\n",
    "if station_id in training_data_descaled:\n",
    "    plot_station_data_interactive(station_id, training_data_descaled[station_id], predictions[station_id][0], predictions[station_id][1])\n"
   ]
  },
  {
   "cell_type": "markdown",
   "id": "98ae2994-aa6b-4e3e-a039-5a807e763caa",
   "metadata": {
    "id": "98ae2994-aa6b-4e3e-a039-5a807e763caa"
   },
   "source": [
    "## Lets try other models"
   ]
  }
 ],
 "metadata": {
  "colab": {
   "provenance": []
  },
  "kernelspec": {
   "display_name": "pytorch-gpu-2.1.0-cuda-12.1",
   "language": "python",
   "name": "pytorch-gpu-2.1.0-cuda-12.1"
  },
  "language_info": {
   "codemirror_mode": {
    "name": "ipython",
    "version": 3
   },
   "file_extension": ".py",
   "mimetype": "text/x-python",
   "name": "python",
   "nbconvert_exporter": "python",
   "pygments_lexer": "ipython3",
   "version": "3.9.18"
  }
 },
 "nbformat": 4,
 "nbformat_minor": 5
}
