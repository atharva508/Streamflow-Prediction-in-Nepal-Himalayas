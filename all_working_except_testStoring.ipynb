{
 "cells": [
  {
   "cell_type": "code",
   "execution_count": 1,
   "id": "45aec171-5085-4deb-8ba4-15b842bf0dda",
   "metadata": {},
   "outputs": [
    {
     "data": {
      "text/plain": [
       "Index(['date', 'snow_depth_water_equivalent_mean',\n",
       "       'surface_net_solar_radiation_mean',\n",
       "       'surface_net_thermal_radiation_mean', 'surface_pressure_mean',\n",
       "       'temperature_2m_mean', 'dewpoint_temperature_2m_mean',\n",
       "       'u_component_of_wind_10m_mean', 'v_component_of_wind_10m_mean',\n",
       "       'volumetric_soil_water_layer_1_mean',\n",
       "       'volumetric_soil_water_layer_2_mean',\n",
       "       'volumetric_soil_water_layer_3_mean',\n",
       "       'volumetric_soil_water_layer_4_mean', 'snow_depth_water_equivalent_min',\n",
       "       'surface_net_solar_radiation_min', 'surface_net_thermal_radiation_min',\n",
       "       'surface_pressure_min', 'temperature_2m_min',\n",
       "       'dewpoint_temperature_2m_min', 'u_component_of_wind_10m_min',\n",
       "       'v_component_of_wind_10m_min', 'volumetric_soil_water_layer_1_min',\n",
       "       'volumetric_soil_water_layer_2_min',\n",
       "       'volumetric_soil_water_layer_3_min',\n",
       "       'volumetric_soil_water_layer_4_min', 'snow_depth_water_equivalent_max',\n",
       "       'surface_net_solar_radiation_max', 'surface_net_thermal_radiation_max',\n",
       "       'surface_pressure_max', 'temperature_2m_max',\n",
       "       'dewpoint_temperature_2m_max', 'u_component_of_wind_10m_max',\n",
       "       'v_component_of_wind_10m_max', 'volumetric_soil_water_layer_1_max',\n",
       "       'volumetric_soil_water_layer_2_max',\n",
       "       'volumetric_soil_water_layer_3_max',\n",
       "       'volumetric_soil_water_layer_4_max', 'total_precipitation_sum',\n",
       "       'potential_evaporation_sum', 'streamflow', 'p_mean', 'pet_mean',\n",
       "       'aridity', 'frac_snow', 'moisture_index', 'seasonality',\n",
       "       'high_prec_freq', 'high_prec_dur', 'low_prec_freq', 'low_prec_dur'],\n",
       "      dtype='object')"
      ]
     },
     "execution_count": 1,
     "metadata": {},
     "output_type": "execute_result"
    }
   ],
   "source": [
    "import pandas as pd\n",
    "\n",
    "test = pd.read_csv('/scratch/kdahal3/Caravan-stat-dyna/az-out/USGS-09379200_combined.csv')\n",
    "test.columns"
   ]
  },
  {
   "cell_type": "code",
   "execution_count": null,
   "id": "132a8414-4cdd-45ef-a736-c252119f5cca",
   "metadata": {},
   "outputs": [],
   "source": []
  }
 ],
 "metadata": {
  "kernelspec": {
   "display_name": "tf",
   "language": "python",
   "name": "tf"
  },
  "language_info": {
   "codemirror_mode": {
    "name": "ipython",
    "version": 3
   },
   "file_extension": ".py",
   "mimetype": "text/x-python",
   "name": "python",
   "nbconvert_exporter": "python",
   "pygments_lexer": "ipython3",
   "version": "3.12.5"
  }
 },
 "nbformat": 4,
 "nbformat_minor": 5
}
